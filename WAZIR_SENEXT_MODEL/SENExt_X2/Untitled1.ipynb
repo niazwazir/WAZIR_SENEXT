{
 "cells": [
  {
   "cell_type": "code",
   "execution_count": 1,
   "id": "e346e0d5",
   "metadata": {},
   "outputs": [],
   "source": [
    "from tensorflow.keras.layers import Conv2D, Input, PReLU, Conv2DTranspose, LeakyReLU, add, concatenate\n",
    "from tensorflow.keras.initializers import RandomNormal, HeNormal\n",
    "from tensorflow.keras.models import Model\n",
    "import tensorflow as tf\n",
    "from tensorflow.keras.layers import Conv2D, Input, Lambda\n",
    "from tensorflow.keras.initializers import RandomNormal\n",
    "from tensorflow.keras.models import Model\n",
    "import tensorflow as tf"
   ]
  },
  {
   "cell_type": "code",
   "execution_count": 2,
   "id": "65082e49",
   "metadata": {},
   "outputs": [],
   "source": [
    "scale=2\n",
    "def pixel_shuffle(scale):\n",
    "    return lambda x: tf.nn.depth_to_space(x, scale)"
   ]
  },
  {
   "cell_type": "code",
   "execution_count": 3,
   "id": "3b3044b0",
   "metadata": {},
   "outputs": [],
   "source": [
    "#######################DEFINE UPPER BRANCH##########################\n",
    "def Upper_Branch(upscale_factor=2, channels=3):\n",
    "    inputs = Input(shape=(None, None, channels))\n",
    "    C1 = Conv2D(3, 3, padding = 'same',kernel_initializer=HeNormal())(inputs)\n",
    "    L1 = LeakyReLU(alpha=0.2)(C1)\n",
    "    C2 = Conv2D(32, 3, padding = 'same',kernel_initializer=HeNormal())(L1)\n",
    "    L2 = LeakyReLU(alpha=0.2)(C2)\n",
    "    C3 = Conv2D(32, 3, padding = 'same',kernel_initializer=HeNormal())(L2)\n",
    "    L3 = LeakyReLU(alpha=0.2)(C3)\n",
    "    C4 = Conv2D(32, 3, padding = 'same',kernel_initializer=HeNormal())(L3)\n",
    "    L4 = LeakyReLU(alpha=0.2)(C4)\n",
    "    C5 = Conv2D(32, 3, padding = 'same',kernel_initializer=HeNormal())(L4)\n",
    "    L5 = LeakyReLU(alpha=0.2)(C5)\n",
    "    C6 = Conv2D(32, 3, padding = 'same',kernel_initializer=HeNormal())(L5)\n",
    "    L6 = LeakyReLU(alpha=0.2)(C6)\n",
    "    C7 = Conv2D(32, 3, padding = 'same',kernel_initializer=HeNormal())(L6)\n",
    "    L7 = LeakyReLU(alpha=0.2)(C7)\n",
    "    C8 = Conv2D(32, 3, padding = 'same',kernel_initializer=HeNormal())(L7)\n",
    "    L8 = LeakyReLU(alpha=0.2)(C8)\n",
    "    C9 = Conv2D(32, 3, padding = 'same',kernel_initializer=HeNormal())(L8)\n",
    "    L9 = LeakyReLU(alpha=0.2)(C9)\n",
    "    C10 = Conv2D(3, 3, padding = 'same',kernel_initializer=HeNormal())(L9)\n",
    "    L10 = LeakyReLU(alpha=0.2)(C10)\n",
    "    sum1 = add(inputs=[inputs, L10])\n",
    "    model = Model(inputs= inputs, outputs=sum1)\n",
    "    return model\n",
    "model = Upper_Branch()"
   ]
  },
  {
   "cell_type": "code",
   "execution_count": 4,
   "id": "879f47ec",
   "metadata": {},
   "outputs": [
    {
     "name": "stdout",
     "output_type": "stream",
     "text": [
      "Model: \"model\"\n",
      "__________________________________________________________________________________________________\n",
      "Layer (type)                    Output Shape         Param #     Connected to                     \n",
      "==================================================================================================\n",
      "input_1 (InputLayer)            [(None, None, None,  0                                            \n",
      "__________________________________________________________________________________________________\n",
      "conv2d (Conv2D)                 (None, None, None, 3 84          input_1[0][0]                    \n",
      "__________________________________________________________________________________________________\n",
      "leaky_re_lu (LeakyReLU)         (None, None, None, 3 0           conv2d[0][0]                     \n",
      "__________________________________________________________________________________________________\n",
      "conv2d_1 (Conv2D)               (None, None, None, 3 896         leaky_re_lu[0][0]                \n",
      "__________________________________________________________________________________________________\n",
      "leaky_re_lu_1 (LeakyReLU)       (None, None, None, 3 0           conv2d_1[0][0]                   \n",
      "__________________________________________________________________________________________________\n",
      "conv2d_2 (Conv2D)               (None, None, None, 3 9248        leaky_re_lu_1[0][0]              \n",
      "__________________________________________________________________________________________________\n",
      "leaky_re_lu_2 (LeakyReLU)       (None, None, None, 3 0           conv2d_2[0][0]                   \n",
      "__________________________________________________________________________________________________\n",
      "conv2d_3 (Conv2D)               (None, None, None, 3 9248        leaky_re_lu_2[0][0]              \n",
      "__________________________________________________________________________________________________\n",
      "leaky_re_lu_3 (LeakyReLU)       (None, None, None, 3 0           conv2d_3[0][0]                   \n",
      "__________________________________________________________________________________________________\n",
      "conv2d_4 (Conv2D)               (None, None, None, 3 9248        leaky_re_lu_3[0][0]              \n",
      "__________________________________________________________________________________________________\n",
      "leaky_re_lu_4 (LeakyReLU)       (None, None, None, 3 0           conv2d_4[0][0]                   \n",
      "__________________________________________________________________________________________________\n",
      "conv2d_5 (Conv2D)               (None, None, None, 3 9248        leaky_re_lu_4[0][0]              \n",
      "__________________________________________________________________________________________________\n",
      "leaky_re_lu_5 (LeakyReLU)       (None, None, None, 3 0           conv2d_5[0][0]                   \n",
      "__________________________________________________________________________________________________\n",
      "conv2d_6 (Conv2D)               (None, None, None, 3 9248        leaky_re_lu_5[0][0]              \n",
      "__________________________________________________________________________________________________\n",
      "leaky_re_lu_6 (LeakyReLU)       (None, None, None, 3 0           conv2d_6[0][0]                   \n",
      "__________________________________________________________________________________________________\n",
      "conv2d_7 (Conv2D)               (None, None, None, 3 9248        leaky_re_lu_6[0][0]              \n",
      "__________________________________________________________________________________________________\n",
      "leaky_re_lu_7 (LeakyReLU)       (None, None, None, 3 0           conv2d_7[0][0]                   \n",
      "__________________________________________________________________________________________________\n",
      "conv2d_8 (Conv2D)               (None, None, None, 3 9248        leaky_re_lu_7[0][0]              \n",
      "__________________________________________________________________________________________________\n",
      "leaky_re_lu_8 (LeakyReLU)       (None, None, None, 3 0           conv2d_8[0][0]                   \n",
      "__________________________________________________________________________________________________\n",
      "conv2d_9 (Conv2D)               (None, None, None, 3 867         leaky_re_lu_8[0][0]              \n",
      "__________________________________________________________________________________________________\n",
      "leaky_re_lu_9 (LeakyReLU)       (None, None, None, 3 0           conv2d_9[0][0]                   \n",
      "__________________________________________________________________________________________________\n",
      "add (Add)                       (None, None, None, 3 0           input_1[0][0]                    \n",
      "                                                                 leaky_re_lu_9[0][0]              \n",
      "==================================================================================================\n",
      "Total params: 66,583\n",
      "Trainable params: 66,583\n",
      "Non-trainable params: 0\n",
      "__________________________________________________________________________________________________\n"
     ]
    }
   ],
   "source": [
    "model.summary()"
   ]
  },
  {
   "cell_type": "code",
   "execution_count": 5,
   "id": "2dc66906",
   "metadata": {},
   "outputs": [
    {
     "name": "stdout",
     "output_type": "stream",
     "text": [
      "('You must install pydot (`pip install pydot`) and install graphviz (see instructions at https://graphviz.gitlab.io/download/) ', 'for plot_model/model_to_dot to work.')\n"
     ]
    }
   ],
   "source": [
    "tf.keras.utils.plot_model(\n",
    "    model, to_file='model.png', show_shapes=False, show_layer_names=True, rankdir='LR', expand_nested=False, dpi=96\n",
    ")"
   ]
  },
  {
   "cell_type": "code",
   "execution_count": 6,
   "id": "2ebc8d12",
   "metadata": {},
   "outputs": [],
   "source": [
    "import tensorflow as tf"
   ]
  },
  {
   "cell_type": "code",
   "execution_count": 7,
   "id": "1b7102f5",
   "metadata": {},
   "outputs": [
    {
     "name": "stdout",
     "output_type": "stream",
     "text": [
      "('You must install pydot (`pip install pydot`) and install graphviz (see instructions at https://graphviz.gitlab.io/download/) ', 'for plot_model/model_to_dot to work.')\n"
     ]
    }
   ],
   "source": [
    "tf.keras.utils.plot_model(model,to_file='model.png',show_shapes=False,show_layer_names=True,rankdir='LR',expand_nested=False,dpi=96\n",
    ")"
   ]
  },
  {
   "cell_type": "code",
   "execution_count": null,
   "id": "03fedd97",
   "metadata": {},
   "outputs": [],
   "source": [
    "pip install -q pydot"
   ]
  },
  {
   "cell_type": "code",
   "execution_count": null,
   "id": "4d42ffcd",
   "metadata": {},
   "outputs": [],
   "source": [
    "pip install graphviz"
   ]
  },
  {
   "cell_type": "code",
   "execution_count": null,
   "id": "b8f4f4e4",
   "metadata": {},
   "outputs": [],
   "source": [
    "tf.keras.utils.plot_model(model, 'Wazir_first_model.png')"
   ]
  },
  {
   "cell_type": "code",
   "execution_count": null,
   "id": "56a8163b",
   "metadata": {},
   "outputs": [],
   "source": []
  }
 ],
 "metadata": {
  "kernelspec": {
   "display_name": "cuda_tf",
   "language": "python",
   "name": "cuda_tf"
  },
  "language_info": {
   "codemirror_mode": {
    "name": "ipython",
    "version": 3
   },
   "file_extension": ".py",
   "mimetype": "text/x-python",
   "name": "python",
   "nbconvert_exporter": "python",
   "pygments_lexer": "ipython3",
   "version": "3.9.12"
  }
 },
 "nbformat": 4,
 "nbformat_minor": 5
}
